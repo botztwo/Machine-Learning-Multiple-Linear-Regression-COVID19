{
 "cells": [
  {
   "cell_type": "markdown",
   "id": "781ce604",
   "metadata": {},
   "source": [
    "# Multi variable Linear Regression"
   ]
  },
  {
   "cell_type": "markdown",
   "id": "4af761f2",
   "metadata": {},
   "source": [
    "Relation between price of a house to several of its features"
   ]
  },
  {
   "cell_type": "code",
   "execution_count": 2,
   "id": "a048a2fe",
   "metadata": {},
   "outputs": [],
   "source": [
    "# Imports\n",
    "import pandas as pd\n",
    "import numpy as np\n",
    "import matplotlib.pyplot as plt\n",
    "from sklearn import metrics"
   ]
  },
  {
   "cell_type": "code",
   "execution_count": 6,
   "id": "ae9844f4",
   "metadata": {},
   "outputs": [
    {
     "data": {
      "text/html": [
       "<div>\n",
       "<style scoped>\n",
       "    .dataframe tbody tr th:only-of-type {\n",
       "        vertical-align: middle;\n",
       "    }\n",
       "\n",
       "    .dataframe tbody tr th {\n",
       "        vertical-align: top;\n",
       "    }\n",
       "\n",
       "    .dataframe thead th {\n",
       "        text-align: right;\n",
       "    }\n",
       "</style>\n",
       "<table border=\"1\" class=\"dataframe\">\n",
       "  <thead>\n",
       "    <tr style=\"text-align: right;\">\n",
       "      <th></th>\n",
       "      <th>price</th>\n",
       "      <th>area</th>\n",
       "      <th>bedrooms</th>\n",
       "      <th>bathrooms</th>\n",
       "      <th>stories</th>\n",
       "      <th>mainroad</th>\n",
       "      <th>guestroom</th>\n",
       "      <th>basement</th>\n",
       "      <th>hotwaterheating</th>\n",
       "      <th>airconditioning</th>\n",
       "      <th>parking</th>\n",
       "      <th>prefarea</th>\n",
       "      <th>furnishingstatus</th>\n",
       "    </tr>\n",
       "  </thead>\n",
       "  <tbody>\n",
       "    <tr>\n",
       "      <th>0</th>\n",
       "      <td>13300000</td>\n",
       "      <td>7420</td>\n",
       "      <td>4</td>\n",
       "      <td>2</td>\n",
       "      <td>3</td>\n",
       "      <td>yes</td>\n",
       "      <td>no</td>\n",
       "      <td>no</td>\n",
       "      <td>no</td>\n",
       "      <td>yes</td>\n",
       "      <td>2</td>\n",
       "      <td>yes</td>\n",
       "      <td>furnished</td>\n",
       "    </tr>\n",
       "    <tr>\n",
       "      <th>1</th>\n",
       "      <td>12250000</td>\n",
       "      <td>8960</td>\n",
       "      <td>4</td>\n",
       "      <td>4</td>\n",
       "      <td>4</td>\n",
       "      <td>yes</td>\n",
       "      <td>no</td>\n",
       "      <td>no</td>\n",
       "      <td>no</td>\n",
       "      <td>yes</td>\n",
       "      <td>3</td>\n",
       "      <td>no</td>\n",
       "      <td>furnished</td>\n",
       "    </tr>\n",
       "    <tr>\n",
       "      <th>2</th>\n",
       "      <td>12250000</td>\n",
       "      <td>9960</td>\n",
       "      <td>3</td>\n",
       "      <td>2</td>\n",
       "      <td>2</td>\n",
       "      <td>yes</td>\n",
       "      <td>no</td>\n",
       "      <td>yes</td>\n",
       "      <td>no</td>\n",
       "      <td>no</td>\n",
       "      <td>2</td>\n",
       "      <td>yes</td>\n",
       "      <td>semi-furnished</td>\n",
       "    </tr>\n",
       "    <tr>\n",
       "      <th>3</th>\n",
       "      <td>12215000</td>\n",
       "      <td>7500</td>\n",
       "      <td>4</td>\n",
       "      <td>2</td>\n",
       "      <td>2</td>\n",
       "      <td>yes</td>\n",
       "      <td>no</td>\n",
       "      <td>yes</td>\n",
       "      <td>no</td>\n",
       "      <td>yes</td>\n",
       "      <td>3</td>\n",
       "      <td>yes</td>\n",
       "      <td>furnished</td>\n",
       "    </tr>\n",
       "    <tr>\n",
       "      <th>4</th>\n",
       "      <td>11410000</td>\n",
       "      <td>7420</td>\n",
       "      <td>4</td>\n",
       "      <td>1</td>\n",
       "      <td>2</td>\n",
       "      <td>yes</td>\n",
       "      <td>yes</td>\n",
       "      <td>yes</td>\n",
       "      <td>no</td>\n",
       "      <td>yes</td>\n",
       "      <td>2</td>\n",
       "      <td>no</td>\n",
       "      <td>furnished</td>\n",
       "    </tr>\n",
       "  </tbody>\n",
       "</table>\n",
       "</div>"
      ],
      "text/plain": [
       "      price  area  bedrooms  bathrooms  stories mainroad guestroom basement  \\\n",
       "0  13300000  7420         4          2        3      yes        no       no   \n",
       "1  12250000  8960         4          4        4      yes        no       no   \n",
       "2  12250000  9960         3          2        2      yes        no      yes   \n",
       "3  12215000  7500         4          2        2      yes        no      yes   \n",
       "4  11410000  7420         4          1        2      yes       yes      yes   \n",
       "\n",
       "  hotwaterheating airconditioning  parking prefarea furnishingstatus  \n",
       "0              no             yes        2      yes        furnished  \n",
       "1              no             yes        3       no        furnished  \n",
       "2              no              no        2      yes   semi-furnished  \n",
       "3              no             yes        3      yes        furnished  \n",
       "4              no             yes        2       no        furnished  "
      ]
     },
     "execution_count": 6,
     "metadata": {},
     "output_type": "execute_result"
    }
   ],
   "source": [
    "# Preprocessing Input data\n",
    "data = pd.read_csv('Housing.csv', low_memory = False)\n",
    "data.head(5)"
   ]
  },
  {
   "cell_type": "markdown",
   "id": "a1a1d811",
   "metadata": {},
   "source": [
    "# Correlation"
   ]
  },
  {
   "cell_type": "code",
   "execution_count": 7,
   "id": "33cd0f44",
   "metadata": {},
   "outputs": [
    {
     "name": "stderr",
     "output_type": "stream",
     "text": [
      "/var/folders/1_/q_r_wcxx3pb2w8n_r2vpk2fr0000gn/T/ipykernel_97936/3290875619.py:1: FutureWarning: The default value of numeric_only in DataFrame.corr is deprecated. In a future version, it will default to False. Select only valid columns or specify the value of numeric_only to silence this warning.\n",
      "  data.corr() # correlation matrix\n"
     ]
    },
    {
     "data": {
      "text/html": [
       "<div>\n",
       "<style scoped>\n",
       "    .dataframe tbody tr th:only-of-type {\n",
       "        vertical-align: middle;\n",
       "    }\n",
       "\n",
       "    .dataframe tbody tr th {\n",
       "        vertical-align: top;\n",
       "    }\n",
       "\n",
       "    .dataframe thead th {\n",
       "        text-align: right;\n",
       "    }\n",
       "</style>\n",
       "<table border=\"1\" class=\"dataframe\">\n",
       "  <thead>\n",
       "    <tr style=\"text-align: right;\">\n",
       "      <th></th>\n",
       "      <th>price</th>\n",
       "      <th>area</th>\n",
       "      <th>bedrooms</th>\n",
       "      <th>bathrooms</th>\n",
       "      <th>stories</th>\n",
       "      <th>parking</th>\n",
       "    </tr>\n",
       "  </thead>\n",
       "  <tbody>\n",
       "    <tr>\n",
       "      <th>price</th>\n",
       "      <td>1.000000</td>\n",
       "      <td>0.535997</td>\n",
       "      <td>0.366494</td>\n",
       "      <td>0.517545</td>\n",
       "      <td>0.420712</td>\n",
       "      <td>0.384394</td>\n",
       "    </tr>\n",
       "    <tr>\n",
       "      <th>area</th>\n",
       "      <td>0.535997</td>\n",
       "      <td>1.000000</td>\n",
       "      <td>0.151858</td>\n",
       "      <td>0.193820</td>\n",
       "      <td>0.083996</td>\n",
       "      <td>0.352980</td>\n",
       "    </tr>\n",
       "    <tr>\n",
       "      <th>bedrooms</th>\n",
       "      <td>0.366494</td>\n",
       "      <td>0.151858</td>\n",
       "      <td>1.000000</td>\n",
       "      <td>0.373930</td>\n",
       "      <td>0.408564</td>\n",
       "      <td>0.139270</td>\n",
       "    </tr>\n",
       "    <tr>\n",
       "      <th>bathrooms</th>\n",
       "      <td>0.517545</td>\n",
       "      <td>0.193820</td>\n",
       "      <td>0.373930</td>\n",
       "      <td>1.000000</td>\n",
       "      <td>0.326165</td>\n",
       "      <td>0.177496</td>\n",
       "    </tr>\n",
       "    <tr>\n",
       "      <th>stories</th>\n",
       "      <td>0.420712</td>\n",
       "      <td>0.083996</td>\n",
       "      <td>0.408564</td>\n",
       "      <td>0.326165</td>\n",
       "      <td>1.000000</td>\n",
       "      <td>0.045547</td>\n",
       "    </tr>\n",
       "    <tr>\n",
       "      <th>parking</th>\n",
       "      <td>0.384394</td>\n",
       "      <td>0.352980</td>\n",
       "      <td>0.139270</td>\n",
       "      <td>0.177496</td>\n",
       "      <td>0.045547</td>\n",
       "      <td>1.000000</td>\n",
       "    </tr>\n",
       "  </tbody>\n",
       "</table>\n",
       "</div>"
      ],
      "text/plain": [
       "              price      area  bedrooms  bathrooms   stories   parking\n",
       "price      1.000000  0.535997  0.366494   0.517545  0.420712  0.384394\n",
       "area       0.535997  1.000000  0.151858   0.193820  0.083996  0.352980\n",
       "bedrooms   0.366494  0.151858  1.000000   0.373930  0.408564  0.139270\n",
       "bathrooms  0.517545  0.193820  0.373930   1.000000  0.326165  0.177496\n",
       "stories    0.420712  0.083996  0.408564   0.326165  1.000000  0.045547\n",
       "parking    0.384394  0.352980  0.139270   0.177496  0.045547  1.000000"
      ]
     },
     "execution_count": 7,
     "metadata": {},
     "output_type": "execute_result"
    }
   ],
   "source": [
    "data.corr() # correlation matrix"
   ]
  },
  {
   "cell_type": "markdown",
   "id": "47641876",
   "metadata": {},
   "source": [
    "# Feature Selection"
   ]
  },
  {
   "cell_type": "code",
   "execution_count": 8,
   "id": "535b83a8",
   "metadata": {},
   "outputs": [],
   "source": [
    "X = data[[\"area\", \"bedrooms\", \"bathrooms\", \"stories\", \"parking\"]]\n",
    "Y = data[[\"price\"]]"
   ]
  },
  {
   "cell_type": "markdown",
   "id": "f50ca833",
   "metadata": {},
   "source": [
    "# Understanding Data"
   ]
  },
  {
   "cell_type": "code",
   "execution_count": 9,
   "id": "1314ba0d",
   "metadata": {},
   "outputs": [
    {
     "data": {
      "text/plain": [
       "Text(0, 0.5, 'price')"
      ]
     },
     "execution_count": 9,
     "metadata": {},
     "output_type": "execute_result"
    },
    {
     "data": {
      "image/png": "[encoded data removed]",
      "text/plain": [
       "<Figure size 640x480 with 5 Axes>"
      ]
     },
     "metadata": {},
     "output_type": "display_data"
    }
   ],
   "source": [
    "# Create two subplots\n",
    "plt.subplot(3, 2, 1)\n",
    "plt.scatter(X[\"area\"],Y)\n",
    "plt.xlabel(\"area\")\n",
    "plt.ylabel(\"price\")\n",
    "\n",
    "plt.subplot(3, 2, 2)\n",
    "plt.scatter(X[\"bedrooms\"],Y)\n",
    "plt.xlabel(\"bedrooms\")\n",
    "plt.ylabel(\"price\")\n",
    "\n",
    "plt.subplot(3, 2, 3)\n",
    "plt.scatter(X[\"bathrooms\"],Y)\n",
    "plt.xlabel(\"bathrooms\")\n",
    "plt.ylabel(\"price\")\n",
    "\n",
    "plt.subplot(3, 2, 4)\n",
    "plt.scatter(X[\"stories\"],Y)\n",
    "plt.xlabel(\"stories\")\n",
    "plt.ylabel(\"price\")\n",
    "\n",
    "plt.subplot(3, 2, 5)\n",
    "plt.scatter(X[\"parking\"],Y)\n",
    "plt.xlabel(\"parking\")\n",
    "plt.ylabel(\"price\")\n"
   ]
  },
  {
   "cell_type": "code",
   "execution_count": 6,
   "id": "e29c1f5c",
   "metadata": {},
   "outputs": [],
   "source": [
    "# X = data[[\"area\"]]"
   ]
  },
  {
   "cell_type": "code",
   "execution_count": 7,
   "id": "c6f9ca8f",
   "metadata": {},
   "outputs": [],
   "source": [
    "from sklearn.model_selection import train_test_split "
   ]
  },
  {
   "cell_type": "code",
   "execution_count": 8,
   "id": "a3f6b07e",
   "metadata": {},
   "outputs": [],
   "source": [
    "X_train, X_test, y_train, y_test = train_test_split(X, Y, test_size=0.3, random_state=101)"
   ]
  },
  {
   "cell_type": "markdown",
   "id": "bf85a5ec",
   "metadata": {},
   "source": [
    "# Normalization"
   ]
  },
  {
   "cell_type": "code",
   "execution_count": 9,
   "id": "ea99190d",
   "metadata": {},
   "outputs": [],
   "source": [
    "from sklearn import preprocessing\n",
    "x_scaler = preprocessing.StandardScaler().fit(X_train)\n",
    "X_train = x_scaler.transform(X_train)\n",
    "\n",
    "y_scaler = preprocessing.StandardScaler().fit(y_train)\n",
    "y_train = y_scaler.transform(y_train)"
   ]
  },
  {
   "cell_type": "code",
   "execution_count": 10,
   "id": "291baa50",
   "metadata": {},
   "outputs": [
    {
     "data": {
      "text/plain": [
       "array([[ 0.40616155, -1.24214968, -0.56856847, -0.92471243,  0.38554291],\n",
       "       [-0.9855741 ,  1.3229399 , -0.56856847,  1.31221097,  1.55135123],\n",
       "       [-0.69330961, -1.24214968, -0.56856847, -0.92471243, -0.78026541],\n",
       "       ...,\n",
       "       [-0.40104513,  1.3229399 ,  1.40074596,  0.19374927, -0.78026541],\n",
       "       [-1.38221876,  1.3229399 ,  1.40074596, -0.92471243, -0.78026541],\n",
       "       [-1.08438733,  1.3229399 ,  1.40074596,  0.19374927, -0.78026541]])"
      ]
     },
     "execution_count": 10,
     "metadata": {},
     "output_type": "execute_result"
    }
   ],
   "source": [
    "X_train"
   ]
  },
  {
   "cell_type": "markdown",
   "id": "fd51cc5a",
   "metadata": {},
   "source": [
    "# Model Training"
   ]
  },
  {
   "cell_type": "code",
   "execution_count": 11,
   "id": "2a51f0b4",
   "metadata": {},
   "outputs": [
    {
     "data": {
      "text/html": [
       "<style>#sk-container-id-1 {color: black;background-color: white;}#sk-container-id-1 pre{padding: 0;}#sk-container-id-1 div.sk-toggleable {background-color: white;}#sk-container-id-1 label.sk-toggleable__label {cursor: pointer;display: block;width: 100%;margin-bottom: 0;padding: 0.3em;box-sizing: border-box;text-align: center;}#sk-container-id-1 label.sk-toggleable__label-arrow:before {content: \"▸\";float: left;margin-right: 0.25em;color: #696969;}#sk-container-id-1 label.sk-toggleable__label-arrow:hover:before {color: black;}#sk-container-id-1 div.sk-estimator:hover label.sk-toggleable__label-arrow:before {color: black;}#sk-container-id-1 div.sk-toggleable__content {max-height: 0;max-width: 0;overflow: hidden;text-align: left;background-color: #f0f8ff;}#sk-container-id-1 div.sk-toggleable__content pre {margin: 0.2em;color: black;border-radius: 0.25em;background-color: #f0f8ff;}#sk-container-id-1 input.sk-toggleable__control:checked~div.sk-toggleable__content {max-height: 200px;max-width: 100%;overflow: auto;}#sk-container-id-1 input.sk-toggleable__control:checked~label.sk-toggleable__label-arrow:before {content: \"▾\";}#sk-container-id-1 div.sk-estimator input.sk-toggleable__control:checked~label.sk-toggleable__label {background-color: #d4ebff;}#sk-container-id-1 div.sk-label input.sk-toggleable__control:checked~label.sk-toggleable__label {background-color: #d4ebff;}#sk-container-id-1 input.sk-hidden--visually {border: 0;clip: rect(1px 1px 1px 1px);clip: rect(1px, 1px, 1px, 1px);height: 1px;margin: -1px;overflow: hidden;padding: 0;position: absolute;width: 1px;}#sk-container-id-1 div.sk-estimator {font-family: monospace;background-color: #f0f8ff;border: 1px dotted black;border-radius: 0.25em;box-sizing: border-box;margin-bottom: 0.5em;}#sk-container-id-1 div.sk-estimator:hover {background-color: #d4ebff;}#sk-container-id-1 div.sk-parallel-item::after {content: \"\";width: 100%;border-bottom: 1px solid gray;flex-grow: 1;}#sk-container-id-1 div.sk-label:hover label.sk-toggleable__label {background-color: #d4ebff;}#sk-container-id-1 div.sk-serial::before {content: \"\";position: absolute;border-left: 1px solid gray;box-sizing: border-box;top: 0;bottom: 0;left: 50%;z-index: 0;}#sk-container-id-1 div.sk-serial {display: flex;flex-direction: column;align-items: center;background-color: white;padding-right: 0.2em;padding-left: 0.2em;position: relative;}#sk-container-id-1 div.sk-item {position: relative;z-index: 1;}#sk-container-id-1 div.sk-parallel {display: flex;align-items: stretch;justify-content: center;background-color: white;position: relative;}#sk-container-id-1 div.sk-item::before, #sk-container-id-1 div.sk-parallel-item::before {content: \"\";position: absolute;border-left: 1px solid gray;box-sizing: border-box;top: 0;bottom: 0;left: 50%;z-index: -1;}#sk-container-id-1 div.sk-parallel-item {display: flex;flex-direction: column;z-index: 1;position: relative;background-color: white;}#sk-container-id-1 div.sk-parallel-item:first-child::after {align-self: flex-end;width: 50%;}#sk-container-id-1 div.sk-parallel-item:last-child::after {align-self: flex-start;width: 50%;}#sk-container-id-1 div.sk-parallel-item:only-child::after {width: 0;}#sk-container-id-1 div.sk-dashed-wrapped {border: 1px dashed gray;margin: 0 0.4em 0.5em 0.4em;box-sizing: border-box;padding-bottom: 0.4em;background-color: white;}#sk-container-id-1 div.sk-label label {font-family: monospace;font-weight: bold;display: inline-block;line-height: 1.2em;}#sk-container-id-1 div.sk-label-container {text-align: center;}#sk-container-id-1 div.sk-container {/* jupyter's `normalize.less` sets `[hidden] { display: none; }` but bootstrap.min.css set `[hidden] { display: none !important; }` so we also need the `!important` here to be able to override the default hidden behavior on the sphinx rendered scikit-learn.org. See: https://github.com/scikit-learn/scikit-learn/issues/21755 */display: inline-block !important;position: relative;}#sk-container-id-1 div.sk-text-repr-fallback {display: none;}</style><div id=\"sk-container-id-1\" class=\"sk-top-container\"><div class=\"sk-text-repr-fallback\"><pre>LinearRegression()</pre><b>In a Jupyter environment, please rerun this cell to show the HTML representation or trust the notebook. <br />On GitHub, the HTML representation is unable to render, please try loading this page with nbviewer.org.</b></div><div class=\"sk-container\" hidden><div class=\"sk-item\"><div class=\"sk-estimator sk-toggleable\"><input class=\"sk-toggleable__control sk-hidden--visually\" id=\"sk-estimator-id-1\" type=\"checkbox\" checked><label for=\"sk-estimator-id-1\" class=\"sk-toggleable__label sk-toggleable__label-arrow\">LinearRegression</label><div class=\"sk-toggleable__content\"><pre>LinearRegression()</pre></div></div></div></div></div>"
      ],
      "text/plain": [
       "LinearRegression()"
      ]
     },
     "execution_count": 11,
     "metadata": {},
     "output_type": "execute_result"
    }
   ],
   "source": [
    "from sklearn.linear_model import LinearRegression\n",
    "model=LinearRegression()\n",
    "model.fit(X_train , y_train)"
   ]
  },
  {
   "cell_type": "code",
   "execution_count": 12,
   "id": "6f924683",
   "metadata": {},
   "outputs": [
    {
     "name": "stdout",
     "output_type": "stream",
     "text": [
      "Model coeficients for features Index(['area', 'bedrooms', 'bathrooms', 'stories', 'parking'], dtype='object') are [[0.38865787 0.06587141 0.29817435 0.25727428 0.19067515]]\n"
     ]
    }
   ],
   "source": [
    "print (f\"Model coeficients for features {X.columns} are {model.coef_}\")"
   ]
  },
  {
   "cell_type": "code",
   "execution_count": 13,
   "id": "495a9e60",
   "metadata": {},
   "outputs": [
    {
     "data": {
      "text/plain": [
       "Text(0, 0.5, 'price')"
      ]
     },
     "execution_count": 13,
     "metadata": {},
     "output_type": "execute_result"
    },
    {
     "data": {
      "image/png": "[encoded data removed]",
      "text/plain": [
       "<Figure size 432x288 with 5 Axes>"
      ]
     },
     "metadata": {
      "needs_background": "light"
     },
     "output_type": "display_data"
    }
   ],
   "source": [
    "y_pred= model.predict(X_train)\n",
    "\n",
    "plt.subplot(3, 2, 1)\n",
    "plt.scatter(X_train[:, 0], y_train)\n",
    "plt.plot([min(X_train[:, 0]), max(X_train[:, 0])], [min(y_pred), max(y_pred)], color=\"orange\")\n",
    "plt.xlabel(\"area\")\n",
    "plt.ylabel(\"price\")\n",
    "\n",
    "plt.subplot(3, 2, 2)\n",
    "plt.scatter(X_train[:, 1], y_train)\n",
    "plt.plot([min(X_train[:, 1]), max(X_train[:, 1])], [min(y_pred), max(y_pred)], color=\"orange\")\n",
    "plt.xlabel(\"bedrooms\")\n",
    "plt.ylabel(\"price\")\n",
    "\n",
    "plt.subplot(3, 2, 3)\n",
    "plt.scatter(X_train[:, 2], y_train)\n",
    "plt.scatter(X_train[:, 2],y_pred)\n",
    "plt.xlabel(\"bathrooms\")\n",
    "plt.ylabel(\"price\")\n",
    "\n",
    "plt.subplot(3, 2, 4)\n",
    "plt.scatter(X_train[:, 3], y_train)\n",
    "plt.scatter(X_train[:, 3],y_pred)\n",
    "plt.xlabel(\"stories\")\n",
    "plt.ylabel(\"price\")\n",
    "\n",
    "plt.subplot(3, 2, 5)\n",
    "plt.scatter(X_train[:, 4], y_train)\n",
    "plt.scatter(X_train[:, 4],y_pred)\n",
    "plt.xlabel(\"parking\")\n",
    "plt.ylabel(\"price\")"
   ]
  },
  {
   "cell_type": "markdown",
   "id": "bafc0262",
   "metadata": {},
   "source": [
    "# Model Testing: Training data"
   ]
  },
  {
   "cell_type": "code",
   "execution_count": 14,
   "id": "e8cc75bf",
   "metadata": {},
   "outputs": [
    {
     "data": {
      "text/html": [
       "<div>\n",
       "<style scoped>\n",
       "    .dataframe tbody tr th:only-of-type {\n",
       "        vertical-align: middle;\n",
       "    }\n",
       "\n",
       "    .dataframe tbody tr th {\n",
       "        vertical-align: top;\n",
       "    }\n",
       "\n",
       "    .dataframe thead th {\n",
       "        text-align: right;\n",
       "    }\n",
       "</style>\n",
       "<table border=\"1\" class=\"dataframe\">\n",
       "  <thead>\n",
       "    <tr style=\"text-align: right;\">\n",
       "      <th></th>\n",
       "      <th>Metrics</th>\n",
       "    </tr>\n",
       "  </thead>\n",
       "  <tbody>\n",
       "    <tr>\n",
       "      <th>MSE</th>\n",
       "      <td>0.419723</td>\n",
       "    </tr>\n",
       "    <tr>\n",
       "      <th>RMSE</th>\n",
       "      <td>0.647860</td>\n",
       "    </tr>\n",
       "  </tbody>\n",
       "</table>\n",
       "</div>"
      ],
      "text/plain": [
       "       Metrics\n",
       "MSE   0.419723\n",
       "RMSE  0.647860"
      ]
     },
     "execution_count": 14,
     "metadata": {},
     "output_type": "execute_result"
    }
   ],
   "source": [
    "MSE = metrics.mean_squared_error(y_train, y_pred)\n",
    "RMSE = np.sqrt(MSE)\n",
    "pd.DataFrame([MSE, RMSE], index=['MSE', 'RMSE'], columns=['Metrics'])"
   ]
  },
  {
   "cell_type": "markdown",
   "id": "029e895a",
   "metadata": {},
   "source": [
    "# Model Testing: Testing data"
   ]
  },
  {
   "cell_type": "code",
   "execution_count": 15,
   "id": "f0bef7b2",
   "metadata": {},
   "outputs": [],
   "source": [
    "X_test = x_scaler.transform(X_test)\n",
    "y_test = y_scaler.transform(y_test)\n",
    "y_pred= model.predict(X_test)"
   ]
  },
  {
   "cell_type": "code",
   "execution_count": 16,
   "id": "dc46ef2f",
   "metadata": {},
   "outputs": [
    {
     "data": {
      "text/html": [
       "<div>\n",
       "<style scoped>\n",
       "    .dataframe tbody tr th:only-of-type {\n",
       "        vertical-align: middle;\n",
       "    }\n",
       "\n",
       "    .dataframe tbody tr th {\n",
       "        vertical-align: top;\n",
       "    }\n",
       "\n",
       "    .dataframe thead th {\n",
       "        text-align: right;\n",
       "    }\n",
       "</style>\n",
       "<table border=\"1\" class=\"dataframe\">\n",
       "  <thead>\n",
       "    <tr style=\"text-align: right;\">\n",
       "      <th></th>\n",
       "      <th>Metrics</th>\n",
       "    </tr>\n",
       "  </thead>\n",
       "  <tbody>\n",
       "    <tr>\n",
       "      <th>MSE</th>\n",
       "      <td>0.447733</td>\n",
       "    </tr>\n",
       "    <tr>\n",
       "      <th>RMSE</th>\n",
       "      <td>0.669128</td>\n",
       "    </tr>\n",
       "  </tbody>\n",
       "</table>\n",
       "</div>"
      ],
      "text/plain": [
       "       Metrics\n",
       "MSE   0.447733\n",
       "RMSE  0.669128"
      ]
     },
     "execution_count": 16,
     "metadata": {},
     "output_type": "execute_result"
    }
   ],
   "source": [
    "MSE = metrics.mean_squared_error(y_test, y_pred)\n",
    "RMSE = np.sqrt(MSE)\n",
    "pd.DataFrame([MSE, RMSE], index=['MSE', 'RMSE'], columns=['Metrics'])"
   ]
  },
  {
   "cell_type": "code",
   "execution_count": 17,
   "id": "dca0c5e3",
   "metadata": {},
   "outputs": [
    {
     "data": {
      "text/plain": [
       "0.5081368237777137"
      ]
     },
     "execution_count": 17,
     "metadata": {},
     "output_type": "execute_result"
    }
   ],
   "source": [
    "from sklearn.metrics import r2_score \n",
    "r2_score(y_test, y_pred)"
   ]
  },
  {
   "cell_type": "markdown",
   "id": "7f8e5196",
   "metadata": {},
   "source": [
    "# Interpreting Predicting Values"
   ]
  },
  {
   "cell_type": "code",
   "execution_count": 18,
   "id": "402912e8",
   "metadata": {},
   "outputs": [
    {
     "data": {
      "text/plain": [
       "array([[ 2.66026591e-01],\n",
       "       [ 6.71411897e-01],\n",
       "       [ 3.95030322e-01],\n",
       "       [ 4.54567395e-01],\n",
       "       [-4.35318399e-01],\n",
       "       [-5.79345403e-01],\n",
       "       [ 1.36153133e+00],\n",
       "       [-4.04926263e-01],\n",
       "       [-8.28422924e-01],\n",
       "       [ 5.96308488e-01],\n",
       "       [-2.81035167e-01],\n",
       "       [ 7.99756413e-01],\n",
       "       [-3.84877533e-01],\n",
       "       [ 6.09517859e-02],\n",
       "       [ 2.99685130e-01],\n",
       "       [ 2.44514394e-01],\n",
       "       [ 8.77546079e-01],\n",
       "       [ 1.05475762e+00],\n",
       "       [-9.05693842e-01],\n",
       "       [-5.56898764e-01],\n",
       "       [ 1.08645000e-01],\n",
       "       [-4.38158155e-01],\n",
       "       [ 3.40939421e-01],\n",
       "       [-3.19968451e-01],\n",
       "       [-8.42847165e-01],\n",
       "       [-8.03808541e-02],\n",
       "       [-5.62295689e-01],\n",
       "       [-6.57327538e-01],\n",
       "       [-6.16398756e-01],\n",
       "       [ 1.14346391e-01],\n",
       "       [ 1.37170737e+00],\n",
       "       [-5.64370259e-01],\n",
       "       [ 5.84089103e-01],\n",
       "       [-8.92262353e-01],\n",
       "       [ 1.97837449e-01],\n",
       "       [-7.05557507e-01],\n",
       "       [-6.93837812e-01],\n",
       "       [ 1.37525927e+00],\n",
       "       [-6.42362389e-01],\n",
       "       [-9.12905962e-01],\n",
       "       [-2.75108099e-01],\n",
       "       [ 6.77150369e-01],\n",
       "       [-2.42912162e-01],\n",
       "       [ 4.49121224e-01],\n",
       "       [-7.12251650e-01],\n",
       "       [-7.83347173e-01],\n",
       "       [-1.04721760e-01],\n",
       "       [-9.06810570e-02],\n",
       "       [ 8.75187991e-01],\n",
       "       [-7.70557825e-01],\n",
       "       [ 1.74839134e-01],\n",
       "       [ 1.83594910e-01],\n",
       "       [ 1.63783600e+00],\n",
       "       [-4.21570279e-01],\n",
       "       [ 4.15381630e-01],\n",
       "       [-6.94998701e-01],\n",
       "       [-9.90695629e-01],\n",
       "       [-3.74792729e-01],\n",
       "       [-2.78622923e-01],\n",
       "       [-3.40131163e-01],\n",
       "       [-4.86748730e-01],\n",
       "       [ 1.42868452e+00],\n",
       "       [ 1.09244293e+00],\n",
       "       [-2.98197650e-01],\n",
       "       [-7.27453242e-01],\n",
       "       [ 1.76819712e-01],\n",
       "       [-8.03012366e-01],\n",
       "       [ 7.59663011e-01],\n",
       "       [-8.40784761e-01],\n",
       "       [ 9.98604816e-03],\n",
       "       [ 8.29301190e-01],\n",
       "       [ 8.85195121e-01],\n",
       "       [-3.06051911e-01],\n",
       "       [-8.01377474e-01],\n",
       "       [-3.44951497e-01],\n",
       "       [ 9.47818447e-02],\n",
       "       [-7.98797092e-01],\n",
       "       [-1.12592288e+00],\n",
       "       [-3.97353537e-01],\n",
       "       [ 3.11946319e-01],\n",
       "       [ 7.77272693e-01],\n",
       "       [-4.95856539e-04],\n",
       "       [-5.44018180e-01],\n",
       "       [-2.92970262e-01],\n",
       "       [ 1.30883640e+00],\n",
       "       [ 5.76751079e-02],\n",
       "       [-6.12059319e-01],\n",
       "       [ 6.76858068e-01],\n",
       "       [ 1.28153235e+00],\n",
       "       [ 2.12124004e-01],\n",
       "       [ 2.14518297e+00],\n",
       "       [-4.81430877e-01],\n",
       "       [ 2.55534410e-01],\n",
       "       [ 5.45933171e-01],\n",
       "       [-6.27216936e-01],\n",
       "       [-2.50972413e-01],\n",
       "       [ 2.90861634e-01],\n",
       "       [-2.33423008e-01],\n",
       "       [-4.86580592e-01],\n",
       "       [ 2.08800250e-01],\n",
       "       [ 5.28233024e-01],\n",
       "       [ 7.01545431e-01],\n",
       "       [-3.23530536e-01],\n",
       "       [-1.98095785e-01],\n",
       "       [ 7.83011936e-01],\n",
       "       [ 1.01351824e-01],\n",
       "       [ 6.11393928e-01],\n",
       "       [ 1.22081808e+00],\n",
       "       [ 1.17967778e+00],\n",
       "       [-1.11123927e+00],\n",
       "       [-5.96857727e-01],\n",
       "       [-1.83153567e-01],\n",
       "       [ 1.13794716e-01],\n",
       "       [-2.86444257e-01],\n",
       "       [-2.55534143e-01],\n",
       "       [ 2.16092654e-01],\n",
       "       [-1.32150748e-01],\n",
       "       [ 3.30709997e-01],\n",
       "       [-8.26451757e-01],\n",
       "       [-1.10557591e-01],\n",
       "       [ 5.43137389e-01],\n",
       "       [-1.01387565e+00],\n",
       "       [ 5.37396657e-02],\n",
       "       [-7.56775725e-01],\n",
       "       [ 5.79154787e-01],\n",
       "       [ 9.05028452e-01],\n",
       "       [-7.29989649e-01],\n",
       "       [-5.85747245e-01],\n",
       "       [ 5.35241909e-01],\n",
       "       [ 8.69011825e-01],\n",
       "       [-9.72665328e-01],\n",
       "       [-9.04150187e-01],\n",
       "       [-9.52831998e-01],\n",
       "       [-2.39689452e-02],\n",
       "       [ 1.05206722e+00],\n",
       "       [ 1.02976535e-01],\n",
       "       [-7.55524371e-01],\n",
       "       [-7.57035100e-01],\n",
       "       [-3.98265818e-01],\n",
       "       [ 8.57157690e-01],\n",
       "       [ 9.12139926e-01],\n",
       "       [-2.75885451e-01],\n",
       "       [-3.80494121e-01],\n",
       "       [-8.33572640e-01],\n",
       "       [ 9.96298496e-02],\n",
       "       [-1.03937744e+00],\n",
       "       [-2.65877549e-01],\n",
       "       [-2.17616357e-01],\n",
       "       [ 1.90244034e+00],\n",
       "       [ 5.60977541e-02],\n",
       "       [-9.05693842e-01],\n",
       "       [-3.19158172e-01],\n",
       "       [-1.05083776e+00],\n",
       "       [ 2.10636444e+00],\n",
       "       [-4.01578806e-01],\n",
       "       [-1.53053732e-01],\n",
       "       [ 4.23915884e-01],\n",
       "       [ 1.18648747e-01],\n",
       "       [-2.37965680e-01],\n",
       "       [ 1.18998825e+00],\n",
       "       [-9.23724143e-01],\n",
       "       [ 1.58382200e+00],\n",
       "       [ 1.25650591e+00],\n",
       "       [-9.25786547e-01]])"
      ]
     },
     "execution_count": 18,
     "metadata": {},
     "output_type": "execute_result"
    }
   ],
   "source": [
    "y_pred"
   ]
  },
  {
   "cell_type": "code",
   "execution_count": 19,
   "id": "51af50d5",
   "metadata": {},
   "outputs": [
    {
     "data": {
      "text/plain": [
       "array([[5228052.89731124],\n",
       "       [5995585.4963848 ],\n",
       "       [5472300.94332272],\n",
       "       [5585024.9209205 ],\n",
       "       [3900167.70698128],\n",
       "       [3627475.48251981],\n",
       "       [7302216.87748202],\n",
       "       [3957710.38355829],\n",
       "       [3155886.81256312],\n",
       "       [5853389.13728529],\n",
       "       [4192278.46875738],\n",
       "       [6238585.42335082],\n",
       "       [3995669.46577144],\n",
       "       [4839776.3703311 ],\n",
       "       [5291779.9856768 ],\n",
       "       [5187322.97336453],\n",
       "       [6385867.78414169],\n",
       "       [6721389.64784292],\n",
       "       [3009586.61979336],\n",
       "       [3669974.62346927],\n",
       "       [4930075.88535383],\n",
       "       [3894791.08056339],\n",
       "       [5369888.42463878],\n",
       "       [4118564.48819217],\n",
       "       [3128576.80758074],\n",
       "       [4572185.49566194],\n",
       "       [3659756.40448811],\n",
       "       [3479828.71377942],\n",
       "       [3557320.85291694],\n",
       "       [4940870.56292413],\n",
       "       [7321483.58991796],\n",
       "       [3655828.53696753],\n",
       "       [5830253.67470596],\n",
       "       [3035017.00762883],\n",
       "       [5098947.60128531],\n",
       "       [3388512.93892394],\n",
       "       [3410702.31797213],\n",
       "       [7328208.5563735 ],\n",
       "       [3508162.84394865],\n",
       "       [2995931.61730216],\n",
       "       [4203500.42839975],\n",
       "       [6006450.38100055],\n",
       "       [4264458.31584669],\n",
       "       [5574713.46200666],\n",
       "       [3375838.64420673],\n",
       "       [3241230.57813307],\n",
       "       [4526099.86225417],\n",
       "       [4552683.69969913],\n",
       "       [6381403.11869947],\n",
       "       [3265445.1746677 ],\n",
       "       [5055403.95062338],\n",
       "       [5071981.61972681],\n",
       "       [7825355.83020456],\n",
       "       [3926197.58629314],\n",
       "       [5510832.90794748],\n",
       "       [3408504.35865018],\n",
       "       [2848649.25651129],\n",
       "       [4014763.43637188],\n",
       "       [4196845.66898966],\n",
       "       [4080389.59859404],\n",
       "       [3802792.55558335],\n",
       "       [7429360.75795999],\n",
       "       [6792740.79260475],\n",
       "       [4159784.03590231],\n",
       "       [3347056.84743981],\n",
       "       [5059153.85931597],\n",
       "       [3203997.66345734],\n",
       "       [6162674.94371079],\n",
       "       [3132481.64221409],\n",
       "       [4743280.85216422],\n",
       "       [6294523.7594065 ],\n",
       "       [6400350.02871324],\n",
       "       [4144913.24211027],\n",
       "       [3207093.07190509],\n",
       "       [4071263.06348355],\n",
       "       [4903828.20597866],\n",
       "       [3211978.61431242],\n",
       "       [2592617.95980144],\n",
       "       [3972048.13617404],\n",
       "       [5314994.59829557],\n",
       "       [6196016.07535591],\n",
       "       [4723435.03277752],\n",
       "       [3694361.96183941],\n",
       "       [4169681.26434682],\n",
       "       [7202447.41608685],\n",
       "       [4833572.50183286],\n",
       "       [3565536.88729889],\n",
       "       [6005896.95529864],\n",
       "       [7150751.53298145],\n",
       "       [5125996.92122272],\n",
       "       [8785936.6210546 ],\n",
       "       [3812861.06561624],\n",
       "       [5208187.62121485],\n",
       "       [5758011.48592529],\n",
       "       [3536838.34918015],\n",
       "       [4249197.51258703],\n",
       "       [5275074.10053445],\n",
       "       [4282424.51808648],\n",
       "       [3803110.8977584 ],\n",
       "       [5119703.92140054],\n",
       "       [5724499.0726918 ],\n",
       "       [6052638.54919839],\n",
       "       [4111820.24559476],\n",
       "       [4349310.99740609],\n",
       "       [6206882.42021879],\n",
       "       [4916267.41716901],\n",
       "       [5881951.01805849],\n",
       "       [7035798.72856423],\n",
       "       [6957906.09698724],\n",
       "       [2620419.04879438],\n",
       "       [3594318.6840658 ],\n",
       "       [4377601.71016245],\n",
       "       [4939826.05321167],\n",
       "       [4182037.21688898],\n",
       "       [4240560.60123998],\n",
       "       [5133510.92933823],\n",
       "       [4474167.43537478],\n",
       "       [5350520.6376599 ],\n",
       "       [3159618.90536096],\n",
       "       [4515050.6444473 ],\n",
       "       [5752718.11815558],\n",
       "       [2804761.58242547],\n",
       "       [4826121.3678399 ],\n",
       "       [3291539.38834924],\n",
       "       [5820911.33221049],\n",
       "       [6437901.28556402],\n",
       "       [3342254.56368066],\n",
       "       [3615354.61350451],\n",
       "       [5737769.28270785],\n",
       "       [6369709.53175623],\n",
       "       [2882786.76273928],\n",
       "       [3012509.2864056 ],\n",
       "       [2920338.01959005],\n",
       "       [4678992.47274266],\n",
       "       [6716295.81154131],\n",
       "       [4919343.54947488],\n",
       "       [3293908.62925957],\n",
       "       [3291048.30433869],\n",
       "       [3970320.87633702],\n",
       "       [6347265.61247149],\n",
       "       [6451365.73032495],\n",
       "       [4202028.63661522],\n",
       "       [4003968.75880157],\n",
       "       [3146136.64470528],\n",
       "       [4913007.13223984],\n",
       "       [2756477.98969575],\n",
       "       [4220977.00687612],\n",
       "       [4312351.8991088 ],\n",
       "       [8326342.06432144],\n",
       "       [4830586.03328213],\n",
       "       [3009586.61979336],\n",
       "       [4120098.62166807],\n",
       "       [2734779.69465811],\n",
       "       [8712439.90812151],\n",
       "       [3964048.26104046],\n",
       "       [4434590.96103755],\n",
       "       [5526991.16033293],\n",
       "       [4949016.39026063],\n",
       "       [4273823.69122939],\n",
       "       [6977427.34965974],\n",
       "       [2975449.11356538],\n",
       "       [7723088.91186016],\n",
       "       [7103367.9580084 ],\n",
       "       [2971544.27893203]])"
      ]
     },
     "execution_count": 19,
     "metadata": {},
     "output_type": "execute_result"
    }
   ],
   "source": [
    "y_pred = y_scaler.inverse_transform(y_pred)\n",
    "y_pred"
   ]
  },
  {
   "cell_type": "markdown",
   "id": "97102b46",
   "metadata": {},
   "source": [
    "fhjdssjgf"
   ]
  }
 ],
 "metadata": {
  "kernelspec": {
   "display_name": "Python 3 (ipykernel)",
   "language": "python",
   "name": "python3"
  },
  "language_info": {
   "codemirror_mode": {
    "name": "ipython",
    "version": 3
   },
   "file_extension": ".py",
   "mimetype": "text/x-python",
   "name": "python",
   "nbconvert_exporter": "python",
   "pygments_lexer": "ipython3",
   "version": "3.10.8"
  }
 },
 "nbformat": 4,
 "nbformat_minor": 5
}
